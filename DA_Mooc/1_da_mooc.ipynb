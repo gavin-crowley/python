{
 "cells": [
  {
   "cell_type": "code",
   "execution_count": 5,
   "id": "9d381d07",
   "metadata": {},
   "outputs": [
    {
     "name": "stdout",
     "output_type": "stream",
     "text": [
      "Gavin\n"
     ]
    }
   ],
   "source": [
    "name=input(\"Give me your name: \")\n",
    "print(name)"
   ]
  },
  {
   "cell_type": "code",
   "execution_count": 7,
   "id": "beb73cd8",
   "metadata": {},
   "outputs": [
    {
     "name": "stdout",
     "output_type": "stream",
     "text": [
      "Hello\n",
      "Hello\n",
      "Hello\n",
      "Bye!\n"
     ]
    }
   ],
   "source": [
    "for i in range(3):\n",
    "    print(\"Hello\")\n",
    "print(\"Bye!\")"
   ]
  },
  {
   "cell_type": "code",
   "execution_count": 8,
   "id": "34b512f9",
   "metadata": {},
   "outputs": [
    {
     "name": "stdout",
     "output_type": "stream",
     "text": [
      "Hello 0\n",
      "Hello 1\n",
      "Hello 2\n",
      "Bye!\n"
     ]
    }
   ],
   "source": [
    "for i in range(3):\n",
    "    print(\"Hello\", i)\n",
    "print(\"Bye!\")"
   ]
  },
  {
   "cell_type": "code",
   "execution_count": 9,
   "id": "ebdec4ae",
   "metadata": {},
   "outputs": [
    {
     "name": "stdout",
     "output_type": "stream",
     "text": [
      "1\n"
     ]
    }
   ],
   "source": [
    "a=1\n",
    "print(a)"
   ]
  },
  {
   "cell_type": "code",
   "execution_count": 10,
   "id": "8048a7d4",
   "metadata": {},
   "outputs": [
    {
     "data": {
      "text/plain": [
       "int"
      ]
     },
     "execution_count": 10,
     "metadata": {},
     "output_type": "execute_result"
    }
   ],
   "source": [
    "type(a)"
   ]
  },
  {
   "cell_type": "code",
   "execution_count": 11,
   "id": "fbe889cb",
   "metadata": {},
   "outputs": [
    {
     "data": {
      "text/plain": [
       "str"
      ]
     },
     "execution_count": 11,
     "metadata": {},
     "output_type": "execute_result"
    }
   ],
   "source": [
    "a=\"some text\"\n",
    "type(a)"
   ]
  },
  {
   "cell_type": "code",
   "execution_count": 12,
   "id": "5d444105",
   "metadata": {},
   "outputs": [
    {
     "name": "stdout",
     "output_type": "stream",
     "text": [
      "firstsecond\n",
      "first second second first\n"
     ]
    }
   ],
   "source": [
    "a=\"first\"\n",
    "b=\"second\"\n",
    "print(a+b)\n",
    "print(\" \".join([a, b, b, a]))"
   ]
  },
  {
   "cell_type": "code",
   "execution_count": 15,
   "id": "1760db0a",
   "metadata": {},
   "outputs": [
    {
     "name": "stdout",
     "output_type": "stream",
     "text": [
      "  4\n"
     ]
    }
   ],
   "source": [
    "print(f\"{4:3d}\")"
   ]
  },
  {
   "cell_type": "code",
   "execution_count": 26,
   "id": "82155e22",
   "metadata": {},
   "outputs": [
    {
     "name": "stdout",
     "output_type": "stream",
     "text": [
      "Square of 1 is 1\n",
      "Square of 2 is 4\n",
      "Square of 3 is 9\n",
      "Square of 4 is 16\n",
      "Finished printing all the squares below 24\n"
     ]
    }
   ],
   "source": [
    "i=1\n",
    "limit=24\n",
    "while i**2<limit:\n",
    "    print(f\"Square of {i} is {i**2}\")\n",
    "    i+=1\n",
    "print(f\"Finished printing all the squares below {limit}\")"
   ]
  },
  {
   "cell_type": "code",
   "execution_count": 44,
   "id": "62ff261f",
   "metadata": {},
   "outputs": [
    {
     "name": "stdout",
     "output_type": "stream",
     "text": [
      "  1   2   3   4   5   6   7   8   9  10\n",
      "  2   4   6   8  10  12  14  16  18  20\n",
      "  3   6   9  12  15  18  21  24  27  30\n",
      "  4   8  12  16  20  24  28  32  36  40\n",
      "  5  10  15  20  25  30  35  40  45  50\n",
      "  6  12  18  24  30  36  42  48  54  60\n",
      "  7  14  21  28  35  42  49  56  63  70\n",
      "  8  16  24  32  40  48  56  64  72  80\n",
      "  9  18  27  36  45  54  63  72  81  90\n",
      " 10  20  30  40  50  60  70  80  90 100\n"
     ]
    }
   ],
   "source": [
    "table=[]\n",
    "for i in range(1, 11):\n",
    "    row=[]\n",
    "    for j in range(1, 11):\n",
    "        row.append(i*j)\n",
    "    table.append(row)\n",
    "\n",
    "for row in table:\n",
    "    print(\" \".join(f\"{number:3}\" for number in row))   "
   ]
  },
  {
   "cell_type": "code",
   "execution_count": 2,
   "id": "b7666364",
   "metadata": {},
   "outputs": [
    {
     "name": "stdout",
     "output_type": "stream",
     "text": [
      "The absolute value of -3 is 3\n"
     ]
    }
   ],
   "source": [
    "x=input(\"Give an integer: \")\n",
    "x=int(x)\n",
    "if x >= 0:\n",
    "    a=x\n",
    "else:\n",
    "    a=-x\n",
    "print(\"The absolute value of %i is %i\" % (x, a))"
   ]
  },
  {
   "cell_type": "code",
   "execution_count": 3,
   "id": "5fd4822f",
   "metadata": {},
   "outputs": [
    {
     "name": "stdout",
     "output_type": "stream",
     "text": [
      "c is positive\n"
     ]
    }
   ],
   "source": [
    "c=float(input(\"Give a number: \"))\n",
    "if c > 0:\n",
    "    print(\"c is positive\")\n",
    "elif c<0:\n",
    "    print(\"c is negative\")\n",
    "else:\n",
    "    print(\"c is zero\")"
   ]
  },
  {
   "cell_type": "code",
   "execution_count": null,
   "id": "8b40b128",
   "metadata": {},
   "outputs": [],
   "source": []
  }
 ],
 "metadata": {
  "kernelspec": {
   "display_name": "base",
   "language": "python",
   "name": "python3"
  },
  "language_info": {
   "codemirror_mode": {
    "name": "ipython",
    "version": 3
   },
   "file_extension": ".py",
   "mimetype": "text/x-python",
   "name": "python",
   "nbconvert_exporter": "python",
   "pygments_lexer": "ipython3",
   "version": "3.12.7"
  }
 },
 "nbformat": 4,
 "nbformat_minor": 5
}
